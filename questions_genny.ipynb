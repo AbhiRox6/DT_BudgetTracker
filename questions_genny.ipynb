{
  "nbformat": 4,
  "nbformat_minor": 0,
  "metadata": {
    "colab": {
      "provenance": [],
      "authorship_tag": "ABX9TyM9LfEvtVS8y+P3Tf9tNrwE",
      "include_colab_link": true
    },
    "kernelspec": {
      "name": "python3",
      "display_name": "Python 3"
    },
    "language_info": {
      "name": "python"
    }
  },
  "cells": [
    {
      "cell_type": "markdown",
      "metadata": {
        "id": "view-in-github",
        "colab_type": "text"
      },
      "source": [
        "<a href=\"https://colab.research.google.com/github/AbhiRox6/DT_BudgetTracker/blob/main/questions_genny.ipynb\" target=\"_parent\"><img src=\"https://colab.research.google.com/assets/colab-badge.svg\" alt=\"Open In Colab\"/></a>"
      ]
    },
    {
      "cell_type": "code",
      "execution_count": 12,
      "metadata": {
        "colab": {
          "base_uri": "https://localhost:8080/"
        },
        "id": "jxMSZ0u19tnE",
        "outputId": "73967921-886d-4cf0-842f-43ca6a53feb5"
      },
      "outputs": [
        {
          "output_type": "stream",
          "name": "stderr",
          "text": [
            "100%|██████████| 1/1 [00:00<00:00, 121.92it/s]\n"
          ]
        }
      ],
      "source": [
        "from lmqg import TransformersQG\n",
        "\n",
        "# initialize model\n",
        "model = TransformersQG('lmqg/t5-base-squad-qag') # or TransformersQG(model='lmqg/t5-base-squad-qg-ae')\n",
        "# paragraph to generate pairs of question and answer\n",
        "context = '''UNIT – IV\n",
        "Data Visualization\n",
        "What is Data Visualization?\n",
        "Data visualization is a field in data analysis that deals with visual representation of data. It graphically plots data and is an effective way to communicate inferences from data.\n",
        "Using data visualization, we can get a visual summary of our data. With pictures, maps and graphs, the human mind has an easier time processing and understanding any given data. Data visualization plays a significant role in the representation of both small and large data sets, but it is especially useful when we have large data sets, in which it is impossible to see all of our data, let alone process and understand it manually.\n",
        "Matplotlib and Seaborn\n",
        "Matplotlib and Seaborn are python libraries that are used for data visualization. They have inbuilt modules for plotting different graphs. While Matplotlib is used to embed graphs into applications, Seaborn is primarily used for statistical graphs.\n",
        "But when should we use either of the two? Let’s understand this with the help of a comparative analysis. The table below provides comparison between Python’s two well-known visualization packages Matplotlib and Seaborn.\n",
        "It is used for basic graph plotting like line charts,  bar graphs, etc.\n",
        "It is mainly used for statistics visualization and can perform complex visualizations with fewer commands.\n",
        "It mainly works with datasets and arrays.\n",
        "It works with entire datasets.\n",
        "Seaborn is considerably more organized and functional than Matplotlib and treats the entire dataset as a solitary unit.\n",
        "Matplotlib acts productively with data arrays and frames. It regards the\n",
        "aces and figures as objects.\n",
        "Seaborn has more inbuilt themes and is mainly used for statistical analysis.\n",
        "Matplotlib is more customizable and pairs well with Pandas and Numpy for Exploratory Data Analysis.\n",
        "'''\n",
        "\n",
        "\n",
        "# model prediction\n",
        "question_answer = model.generate_qa(context)"
      ]
    },
    {
      "cell_type": "code",
      "source": [
        "data=question_answer\n",
        "questions = [item[0] for item in data]\n",
        "answers = [item[1] for item in data]\n",
        "\n",
        "print(\"List of questions:\")\n",
        "for question in questions:\n",
        "    print(question)\n",
        "\n",
        "print(\"\\nList of answers:\")\n",
        "for answer in answers:\n",
        "    print(answer)"
      ],
      "metadata": {
        "colab": {
          "base_uri": "https://localhost:8080/"
        },
        "id": "Og2_AGru-hbH",
        "outputId": "2c90989b-24a7-402e-af62-936963b01ae2"
      },
      "execution_count": 20,
      "outputs": [
        {
          "output_type": "stream",
          "name": "stdout",
          "text": [
            "List of questions:\n",
            "What is a field in data analysis that deals with visual representation of data?\n",
            "What does data visualization do?\n",
            "What is a significant role in the representation of both small and large data sets?\n",
            "What are python libraries that are used for data visualization?\n",
            "What is Seaborn primarily used for?\n",
            "What does Matplotlib do?\n",
            "\n",
            "List of answers:\n",
            "Data Visualization\n",
            "graphically plots data and is an effective way to communicate inferences from data\n",
            "Data visualization\n",
            "Matplotlib and Seaborn\n",
            "statistical graphs\n",
            "treats the entire dataset as a solitary unit\n"
          ]
        }
      ]
    },
    {
      "cell_type": "code",
      "source": [
        "def classify_questions_blooms(questions):\n",
        "    bloom_taxonomy_keywords = {\n",
        "        'Remembering': [\n",
        "            'define', 'list', 'recall', 'recognize', 'repeat', 'identify', 'name', 'match', 'find', 'locate',\n",
        "            'enumerate', 'memorize', 'state', 'tell', 'recite', 'label', 'point out', 'highlight', 'underline',\n",
        "            'select', 'choose', 'tabulate', 'cite', 'mention', 'detail', 'indicate', 'outline', 'characterize',\n",
        "            'quote', 'remember', 'retrieve', 'specify', 'signify', 'show', 'illustrate', 'present', 'recall',\n",
        "            'solve', 'tabulate', 'write'\n",
        "        ],\n",
        "        'Understanding': [\n",
        "            'describe', 'explain', 'interpret', 'paraphrase', 'summarize', 'comprehend', 'grasp', 'infer',\n",
        "            'illustrate', 'predict', 'outline', 'understand', 'discuss', 'predict', 'translate', 'compare',\n",
        "            'contrast', 'demonstrate', 'extend', 'represent', 'classify', 'summarize', 'explain', 'infer',\n",
        "            'contextualize', 'clarify', 'elaborate', 'extrapolate', 'convert', 'review', 'restate','What is','What does','What are'\n",
        "        ],\n",
        "        'Applying': [\n",
        "            'apply', 'compute', 'demonstrate', 'use', 'solve', 'implement', 'execute', 'utilize', 'operate',\n",
        "            'carry out', 'construct', 'dramatize', 'simulate', 'manipulate', 'practice', 'illustrate', 'schedule',\n",
        "            'show', 'experiment', 'paint', 'calculate', 'operate', 'develop', 'use', 'translate', 'operate',\n",
        "            'calculate', 'solve', 'modify'\n",
        "        ],\n",
        "        'Analyzing': [\n",
        "            'analyze', 'categorize', 'differentiate', 'organize', 'compare', 'dissect', 'examine', 'inspect',\n",
        "            'investigate', 'probe', 'scrutinize', 'break down', 'differentiate', 'diagnose', 'deconstruct',\n",
        "            'detect', 'infer', 'classify', 'arrange', 'survey', 'divide', 'dissect', 'select', 'examine',\n",
        "            'classify', 'classify', 'compare', 'contrast', 'examine', 'contrast', 'inspect', 'deduce', 'test'\n",
        "        ],\n",
        "        'Evaluating': [\n",
        "            'critique', 'evaluate', 'judge', 'recommend', 'assess', 'criticize', 'validate', 'justify', 'rank',\n",
        "            'critique', 'appraise', 'compare', 'conclude', 'contrast', 'criticize', 'defend', 'justify', 'explain',\n",
        "            'interpret', 'rate', 'review', 'value', 'assess', 'debate', 'rate', 'score', 'critique', 'select',\n",
        "            'measure', 'assess', 'decide', 'evaluate', 'test', 'appraise'\n",
        "        ],\n",
        "        'Creating': [\n",
        "            'design', 'develop', 'compose', 'construct', 'generate', 'devise', 'formulate', 'originate', 'invent',\n",
        "            'synthesize', 'compose', 'plan', 'produce', 'assemble', 'arrange', 'compile', 'create', 'design', 'devise',\n",
        "            'invent', 'manage', 'organize', 'plan', 'prepare', 'propose', 'set up', 'solve', 'synthesize', 'devise',\n",
        "            'assemble', 'combine', 'compose', 'construct', 'design', 'establish', 'formulate', 'organize', 'plan',\n",
        "            'prepare', 'produce', 'propose'\n",
        "        ]\n",
        "    }\n",
        "\n",
        "    classified_questions = {category: [] for category in bloom_taxonomy_keywords}\n",
        "\n",
        "    for question in questions:\n",
        "        bloom_category = None\n",
        "\n",
        "        # Classify based on Bloom's Taxonomy\n",
        "        for category, keywords in bloom_taxonomy_keywords.items():\n",
        "            if any(keyword in question.lower() for keyword in keywords):\n",
        "                bloom_category = category\n",
        "                break\n",
        "\n",
        "        # Assign to appropriate category\n",
        "        if bloom_category is not None:\n",
        "            classified_questions[bloom_category].append(question)\n",
        "        else:\n",
        "            # If no Bloom's category found, categorize as 'Unclassified'\n",
        "            if 'Unclassified' not in classified_questions:\n",
        "                classified_questions['Unclassified'] = []\n",
        "            classified_questions['Unclassified'].append(question)\n",
        "\n",
        "    return classified_questions\n",
        "\n",
        "# Example questions\n",
        "example_questions = questions\n",
        "\n",
        "# Classify the example questions using the updated Bloom's Taxonomy model\n",
        "classified_questions = classify_questions_blooms(example_questions)\n",
        "\n",
        "# Print the classified questions\n",
        "for category, questions in classified_questions.items():\n",
        "    print(f\"{category}:\")\n",
        "    for question in questions:\n",
        "        print(f\" - {question}\")\n"
      ],
      "metadata": {
        "colab": {
          "base_uri": "https://localhost:8080/"
        },
        "id": "oPfwn8w093pa",
        "outputId": "77a3a2e9-b15b-41ae-a34e-8a7d0569ecca"
      },
      "execution_count": 23,
      "outputs": [
        {
          "output_type": "stream",
          "name": "stdout",
          "text": [
            "Remembering:\n",
            " - What is a field in data analysis that deals with visual representation of data?\n",
            " - What is a significant role in the representation of both small and large data sets?\n",
            "Understanding:\n",
            "Applying:\n",
            " - What are python libraries that are used for data visualization?\n",
            " - What is Seaborn primarily used for?\n",
            "Analyzing:\n",
            "Evaluating:\n",
            "Creating:\n",
            "Unclassified:\n",
            " - What does data visualization do?\n",
            " - What does Matplotlib do?\n"
          ]
        }
      ]
    },
    {
      "cell_type": "code",
      "source": [],
      "metadata": {
        "colab": {
          "base_uri": "https://localhost:8080/"
        },
        "id": "25wCwdx8TjAt",
        "outputId": "c50dd3b4-9aae-4570-dcae-5a9822b28663"
      },
      "execution_count": 24,
      "outputs": [
        {
          "output_type": "stream",
          "name": "stdout",
          "text": [
            "{'Remembering': ['What is a field in data analysis that deals with visual representation of data?', 'What is a significant role in the representation of both small and large data sets?'], 'Understanding': [], 'Applying': ['What are python libraries that are used for data visualization?', 'What is Seaborn primarily used for?'], 'Analyzing': [], 'Evaluating': [], 'Creating': [], 'Unclassified': ['What does data visualization do?', 'What does Matplotlib do?']}\n"
          ]
        }
      ]
    },
    {
      "cell_type": "code",
      "source": [],
      "metadata": {
        "id": "pBUZPQ42T48D"
      },
      "execution_count": null,
      "outputs": []
    }
  ]
}